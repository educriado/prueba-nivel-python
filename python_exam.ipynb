{
 "cells": [
  {
   "cell_type": "markdown",
   "metadata": {},
   "source": [
    "# Prueba de nivel de Python\n",
    "Se compone de los siguientes ejercicios:\n",
    "- **Lista balanceada** 15 puntos\n",
    "- **Diccionario invertido** 10 puntos\n",
    "- **Generador no único** 15 puntos\n",
    "- **Clase musical** 10 puntos\n",
    "- **Carrera vertical** 30 puntos\n",
    "\n",
    "Sobre los 80 puntos hay que alcanzar un mínimo de 50 puntos para pasar la prueba de nivel. Se tendrá en cuenta que la solución sea corta y robusta.\n",
    "\n",
    "Se espera por parte de los participantes un compromiso de honestidad. Las respuestas son sencillas y cortas pero no hay una única solucion posible a todas ellas. Se verificará que el trabajo realizado por cada uno es individual. Si hay sospechas de que ese trabajo no es individual, dicho trabajo no pasará la prueba de nivel. \n",
    "\n",
    "Fecha de entrega 23:59h del 17 de Abril"
   ]
  },
  {
   "cell_type": "markdown",
   "metadata": {},
   "source": [
    "**Lista balanceada**: Tenemos una lista de tokens compuesta de paréntesis abiertos, paréntesis cerrados y enteros de 1 a 9. Una lista está bien formada si los paréntesis están balanceados y cada entero indica el número de pares de paréntesis que rodean a dicho valor.\n",
    "\n",
    "Implementar ```bien_formada```, que toma una lista de tokens y devuelve ```True``` si y solo si la lista de tokens está bien formada. \n",
    "\n",
    "```\n",
    "> print bien_formada(list('(1)'))\n",
    "True\n",
    "> print bien_formada(list('(2)'))\n",
    "False\n",
    "> print bien_formada(list('((2)((3)))'))\n",
    "True\n",
    "> print bien_formada(list('((3)((2)))'))\n",
    "False\n",
    "> print bien_formada(list('(((3)((4))(3))(2)((3)))'))\n",
    "True\n",
    "```\n",
    "\n",
    "\n",
    "Usa el siguiente código de partida:\n",
    "\n",
    "```\n",
    "def bien_formada(s, depth=0):\n",
    "    try:\n",
    "        first = s.pop(0)\n",
    "        if first != '(':\n",
    "            return depth == int(first)\n",
    "```"
   ]
  },
  {
   "cell_type": "code",
   "execution_count": null,
   "metadata": {
    "collapsed": false
   },
   "outputs": [],
   "source": []
  },
  {
   "cell_type": "markdown",
   "metadata": {},
   "source": [
    "**Diccionario invertido**: La función ``invertir`` toma un diccionario y devuelve un diccionario nuevo donde los valores son claves y las claves se convierten en una lista de valores. Si un valor no puede convertirse en clave se descarta.\n",
    "```\n",
    "> print(invertir({'a':5, 'b':3, 'c':2, 'd':3}))\n",
    "{2: ['c'], 3: ['b', 'd'], 5: ['a']}\n",
    "> print(invertir({'a':5, 'b':3, 'c':[2], 'd':3}))\n",
    "{3: ['b', 'd'], 5: ['a']}\n",
    "```"
   ]
  },
  {
   "cell_type": "code",
   "execution_count": 2,
   "metadata": {
    "collapsed": false
   },
   "outputs": [
    {
     "name": "stdout",
     "output_type": "stream",
     "text": [
      "{2: ['c'], 3: ['b', 'd'], 5: ['a']}\n"
     ]
    }
   ],
   "source": [
    "def invertir(dict):\n",
    "    dict_nuevo = {}\n",
    "    for clave, valor in dict.items():\n",
    "        if not dict_nuevo.has_key(valor):\n",
    "            dict_nuevo[valor] = [clave]\n",
    "        else:\n",
    "            dict_nuevo[valor].append(clave)\n",
    "\n",
    "    return dict_nuevo\n",
    "\n",
    "print(invertir({'a':5, 'b':3, 'c':2, 'd':3}))"
   ]
  },
  {
   "cell_type": "markdown",
   "metadata": {},
   "source": [
    "**Generador no único**: La función generadora ``no_unico`` toma cualquier iterable como argumento y devuelve un iterador sobre todos los elementos no únicos en el orden en el que se detecta que no son únicos.\n",
    "\n",
    "```\n",
    "> list(no_unico([1, 3, 2, 2, 5, 3, 4, 1]))\n",
    "[2, 3, 1]\n",
    "```"
   ]
  },
  {
   "cell_type": "code",
   "execution_count": 1,
   "metadata": {
    "collapsed": false
   },
   "outputs": [
    {
     "data": {
      "text/plain": [
       "[2, 3, 1]"
      ]
     },
     "execution_count": 1,
     "metadata": {},
     "output_type": "execute_result"
    }
   ],
   "source": [
    "def no_unico(iterable):\n",
    "    recorridos = []\n",
    "    resultado = []\n",
    "    for elemento in iterable:\n",
    "        if (elemento in recorridos) and (elemento not in resultado):\n",
    "            resultado.append(elemento)\n",
    "        recorridos.append(elemento)\n",
    "    return iter(resultado)\n",
    "\n",
    "list(no_unico([1, 3, 2, 2, 5, 3, 4, 1]))"
   ]
  },
  {
   "cell_type": "markdown",
   "metadata": {},
   "source": [
    "**Clase musical**: Crea una clase denominada `Cancion` que tenga un método `play`que escriba en pantalla las estrofas de una canción que se le haya pasado en el constructor.\n",
    "```\n",
    "> cancion = Cancion([\"Cumpleaños feliz\", \"Cumpleaños feliz\", \"Te deseamos todos\", \"Cumpleaños feliz\"])\n",
    "> cancion.play()\n",
    "Cumpleaños feliz\n",
    "Cumpleaños feliz\n",
    "Te deseamos todos\n",
    "Cumpleaños feliz\n",
    "```"
   ]
  },
  {
   "cell_type": "code",
   "execution_count": 19,
   "metadata": {
    "collapsed": false
   },
   "outputs": [
    {
     "name": "stdout",
     "output_type": "stream",
     "text": [
      "Cumplea��os feliz\n",
      "Cumplea��os feliz\n",
      "Te deseamos todos\n",
      "Cumplea��os feliz\n"
     ]
    }
   ],
   "source": [
    "import time\n",
    "import sys\n",
    "\n",
    "class Cancion:\n",
    "    \n",
    "    def __init__(self, estrofas):\n",
    "        self.estrofas = estrofas\n",
    "    \n",
    "    def play(self):\n",
    "        for estrofa in self.estrofas:\n",
    "            for letra in estrofa:\n",
    "                sys.stdout.write(letra)\n",
    "                # esto es puramente estetico\n",
    "                time.sleep(.1)\n",
    "            \n",
    "            print \"\"\n",
    "\n",
    "cancion = Cancion([\"Cumpleaños feliz\", \"Cumpleaños feliz\", \"Te deseamos todos\", \"Cumpleaños feliz\"])\n",
    "cancion.play()"
   ]
  },
  {
   "cell_type": "markdown",
   "metadata": {},
   "source": [
    "**Carrera Vertical:** Un corredor participa en una carrera vertical de _n_ escalones pudiendo subir 1, 2 ó 3 escalones cada vez. Implementa una función que cuente todas las formas posibles de subir _n_ escalones.\n",
    "```\n",
    "> print staircaseCount(1)\n",
    "1\n",
    "> print staircaseCount(2)\n",
    "2\n",
    "> print staircaseCount(3)\n",
    "4\n",
    "> print staircaseCount(4)\n",
    "7\n",
    "```\n",
    "La función debe ser capaz de computar en milisegundos cuantas formas posibles hay de subir 2500 escalones.\n",
    "```\n",
    "> print staircaseCount(2500)\n",
    "25995141303821807172626236125906607615866791331561915620894574816921166800783923163332957535456271118463859873532852472723081575732040959420569217974251649035410975341213005762974633863697137749526890977505439660087436608713532914323869402616134445658944972896728120963411762122409556001067164509550348737157978465715896564604789452958067810550967263935696654067812304084042952611890333378496696245046542645295156787769713726767193263664300047841280740907689056815793889572131230684861580654047165401179620363687057859687709472816310747945105347461038894919004972392012629651907230981574199275727359628753065632760532058527830684202805216236662454100846575950215\n",
    "```"
   ]
  },
  {
   "cell_type": "code",
   "execution_count": 18,
   "metadata": {
    "collapsed": false,
    "scrolled": false
   },
   "outputs": [
    {
     "name": "stdout",
     "output_type": "stream",
     "text": [
      "1930715638812503980978477742176765059817000946408020458616966472532160136748685107885905980372339049224776587678431380225014854419087911121131396370148439482037441811335770739632524231756180470676206524632137242871648864178751465042753209923059876871711637731225356990628561878347663767117976253661277522979962519786201622871530774770637486281263408219608965804499766300728870340881571295969662390555384137391425076062990692682318756919512343540885026173478700526094764968441814941887862435392916726255063188548564097823974367812775902885600490532695134200880579294185102149934220395208779681909069641715377598726598332270512736052329261902007259465880127414067819207706704390368062999842794862763437159098488131812468396667770977541784569786308819346920271818703891223466781031878470954603905351912111348558176468800741434264557449695354345746716131009982982017636906969591004514769269878719206834018215416994267573739388479951784999527799851652258110727538261742176091202079829830620486815249778625475238693390644083651762704217453735799816804413172171223434689196342963615038361674273524894874245568945059811939564115797631041266143063330365392499398501724080709091959012172021806993134787182001380898097360043331816909033259191678579450003863714483397595334971593972257605199408522260734830841216909691270785232156757176590253640499908827673376923144133787744116154841376095021117963693870277526898764858623966640853789117478648970478992514101337504808636652852984364471366272820035909723601410522219437068019495364649698623244740681547393811666634518114102147868844956036371461499546586852331283585300785900327839247939204205582693354098669543633046057890222624011175132264010713459005979014537778554203096317054194396713096782546679614415236733131969462826941311693549970027540774289950455984491240216393662297068078232748535624545451186844744385039914332342018166219951271152942927531653401178738367596865402888432989238731721608032445342782912019747215791930022127468528575795886164583090399609136974565184000304719559853065592962756615762189221562355501477384282655239367297099981861970002041923074093094315767673196782708973029913765232547695710360662256632221777654399005864677663533682942690860556838383041983564567154601294341140662928927582787185710584039211793215151302345840851724148655428030679536009820848391332350263370485321205324369323599941426412387240034829157420109122068953279465696010927715119511221107536031592185197333377580297818825824007421235046372894013450316689382024695255792153960245806766169732098492506684653219638122737801337025633407035724210635813119393946653088334908386739151802326021713639813341762179185\n"
     ]
    }
   ],
   "source": [
    "\n",
    "def staircaseCount(n):\n",
    "\n",
    "    # casos base\n",
    "    if n == 1:\n",
    "        return 1\n",
    "    if n == 2:\n",
    "        return 2\n",
    "    if n == 3:\n",
    "        return 4\n",
    "\n",
    "    anteriores = [1, 2, 4]\n",
    "    actual = 3\n",
    "    while actual < n:\n",
    "        acumulado = sum(anteriores)\n",
    "        # actualizamos los valores\n",
    "        anteriores[0] = anteriores[1]\n",
    "        anteriores[1] = anteriores[2]\n",
    "        anteriores[2] = acumulado\n",
    "        actual += 1\n",
    "    return anteriores[2]\n",
    "\n",
    "print staircaseCount(10000)"
   ]
  }
 ],
 "metadata": {
  "kernelspec": {
   "display_name": "Python 2",
   "language": "python",
   "name": "python2"
  },
  "language_info": {
   "codemirror_mode": {
    "name": "ipython",
    "version": 2
   },
   "file_extension": ".py",
   "mimetype": "text/x-python",
   "name": "python",
   "nbconvert_exporter": "python",
   "pygments_lexer": "ipython2",
   "version": "2.7.11"
  }
 },
 "nbformat": 4,
 "nbformat_minor": 0
}
